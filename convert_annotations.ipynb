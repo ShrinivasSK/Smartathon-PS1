{
 "cells": [
  {
   "cell_type": "code",
   "execution_count": 1,
   "metadata": {},
   "outputs": [],
   "source": [
    "import pandas as pd\n",
    "from tqdm import tqdm"
   ]
  },
  {
   "cell_type": "code",
   "execution_count": 2,
   "metadata": {},
   "outputs": [],
   "source": [
    "train_df=pd.read_csv('./yolodata/train.csv')\n",
    "val_df=pd.read_csv('./yolodata/val.csv')\n",
    "\n",
    "train_df_grouped = train_df.groupby('image_path')\n",
    "val_df_grouped = val_df.groupby('image_path')"
   ]
  },
  {
   "cell_type": "code",
   "execution_count": 3,
   "metadata": {},
   "outputs": [],
   "source": [
    "def clamp(n, minn, maxn):\n",
    "    return max(min(maxn, n), minn)"
   ]
  },
  {
   "cell_type": "code",
   "execution_count": 4,
   "metadata": {},
   "outputs": [],
   "source": [
    "import os\n",
    "\n",
    "# Convert the info dict to the required yolo format and write it to disk\n",
    "def convert_to_yolov7(grouped_df,path):\n",
    "    \n",
    "    # For each bounding box\n",
    "    for name,group in tqdm(grouped_df):\n",
    "\n",
    "        bboxes=[]\n",
    "        for i,row in group.iterrows():\n",
    "          class_id = row[\"class\"]\n",
    "          b_center_x = (row[\"xmin\"] + row[\"xmax\"]) / 2 \n",
    "          b_center_y = (row[\"ymin\"] + row[\"ymax\"]) / 2\n",
    "          b_width    = (row[\"xmax\"] - row[\"xmin\"])\n",
    "          b_height   = (row[\"ymax\"] - row[\"ymin\"])\n",
    "          \n",
    "          # Normalise the co-ordinates by the dimensions of the image\n",
    "          # image_w, image_h, image_c = info_dict[\"image_size\"]  \n",
    "          b_center_x /= 960 \n",
    "          b_center_y /= 540\n",
    "          b_width    /= 960\n",
    "          b_height   /= 540\n",
    "          b_center_x = clamp(b_center_x,0,1)  \n",
    "          b_center_y = clamp(b_center_y,0,1)\n",
    "          b_width    = clamp(b_width,0,1) \n",
    "          b_height   = clamp(b_height,0,1)\n",
    "          if class_id>=6:\n",
    "            class_id-=1 ## not considering the class with only one image i.e class 6 BAD_STREETLIGHT\n",
    "          bboxes.append(\"{:.0f} {:.3f} {:.3f} {:.3f} {:.3f}\".format(class_id, b_center_x, b_center_y, b_width, b_height))\n",
    "        # Transform the bbox co-ordinates as per the format required by YOLO v8\n",
    "        \n",
    "        #Write the bbox details to the file \n",
    "        fname = os.path.join(path,name.replace(\"jpg\",\"txt\"))\n",
    "        with open(fname,\"w\") as f:\n",
    "          for box in bboxes:\n",
    "            f.write(f\"{box}\\n\")"
   ]
  },
  {
   "cell_type": "code",
   "execution_count": 5,
   "metadata": {},
   "outputs": [
    {
     "name": "stderr",
     "output_type": "stream",
     "text": [
      "100%|██████████| 6299/6299 [16:26<00:00,  6.39it/s]\n"
     ]
    }
   ],
   "source": [
    "convert_to_yolov7(train_df_grouped,'labels/train')"
   ]
  },
  {
   "cell_type": "code",
   "execution_count": 6,
   "metadata": {},
   "outputs": [
    {
     "name": "stderr",
     "output_type": "stream",
     "text": [
      "100%|██████████| 1575/1575 [03:43<00:00,  7.03it/s]\n"
     ]
    }
   ],
   "source": [
    "convert_to_yolov7(val_df_grouped,'labels/val')"
   ]
  },
  {
   "attachments": {},
   "cell_type": "markdown",
   "metadata": {},
   "source": [
    "Remove Image and its label for the BAD STREETLIGHT Class that contains only one image"
   ]
  },
  {
   "cell_type": "code",
   "execution_count": null,
   "metadata": {},
   "outputs": [],
   "source": [
    "os.remove(\"/home/du4/19CS30043/hack/yolodata2/labels/train/53d3797457a0d2e3afe146e2f797e77e.txt\")\n",
    "os.remove(\"/home/du4/19CS30043/hack/yolodata2/labels/train/53d3797457a0d2e3afe146e2f797e77e.txt\")"
   ]
  },
  {
   "cell_type": "code",
   "execution_count": null,
   "metadata": {},
   "outputs": [],
   "source": []
  }
 ],
 "metadata": {
  "kernelspec": {
   "display_name": "Python 3",
   "language": "python",
   "name": "python3"
  },
  "language_info": {
   "codemirror_mode": {
    "name": "ipython",
    "version": 3
   },
   "file_extension": ".py",
   "mimetype": "text/x-python",
   "name": "python",
   "nbconvert_exporter": "python",
   "pygments_lexer": "ipython3",
   "version": "3.10.6 (main, Nov 14 2022, 16:10:14) [GCC 11.3.0]"
  },
  "orig_nbformat": 4,
  "vscode": {
   "interpreter": {
    "hash": "31f2aee4e71d21fbe5cf8b01ff0e069b9275f58929596ceb00d14d90e3e16cd6"
   }
  }
 },
 "nbformat": 4,
 "nbformat_minor": 2
}
